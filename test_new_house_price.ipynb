{
 "cells": [
  {
   "cell_type": "markdown",
   "metadata": {},
   "source": [
    "# Test - New houses are expensive than old ones"
   ]
  },
  {
   "cell_type": "markdown",
   "metadata": {},
   "source": [
    "## H0"
   ]
  },
  {
   "cell_type": "markdown",
   "metadata": {},
   "source": [
    "House squaremeter price and build year are independent"
   ]
  },
  {
   "cell_type": "markdown",
   "metadata": {},
   "source": [
    "## H1"
   ]
  },
  {
   "cell_type": "markdown",
   "metadata": {},
   "source": [
    "House squaremeter price and build year are dependent"
   ]
  },
  {
   "cell_type": "code",
   "execution_count": 2,
   "metadata": {},
   "outputs": [],
   "source": [
    "import pandas as pd"
   ]
  },
  {
   "cell_type": "code",
   "execution_count": 3,
   "metadata": {},
   "outputs": [],
   "source": [
    "from statsmodels.stats.proportion import proportions_chisquare"
   ]
  },
  {
   "cell_type": "code",
   "execution_count": 4,
   "metadata": {},
   "outputs": [],
   "source": [
    "import seaborn as sns"
   ]
  },
  {
   "cell_type": "code",
   "execution_count": 5,
   "metadata": {},
   "outputs": [],
   "source": [
    "import matplotlib.pyplot as plt"
   ]
  },
  {
   "cell_type": "code",
   "execution_count": 6,
   "metadata": {},
   "outputs": [],
   "source": [
    "from scipy.stats import chi2_contingency\n",
    "from scipy.stats import chi2"
   ]
  },
  {
   "cell_type": "code",
   "execution_count": 7,
   "metadata": {},
   "outputs": [],
   "source": [
    "data = pd.read_csv('house_prices_fixed.csv',decimal=',')"
   ]
  },
  {
   "cell_type": "code",
   "execution_count": 8,
   "metadata": {},
   "outputs": [
    {
     "data": {
      "text/html": [
       "<div>\n",
       "<style scoped>\n",
       "    .dataframe tbody tr th:only-of-type {\n",
       "        vertical-align: middle;\n",
       "    }\n",
       "\n",
       "    .dataframe tbody tr th {\n",
       "        vertical-align: top;\n",
       "    }\n",
       "\n",
       "    .dataframe thead th {\n",
       "        text-align: right;\n",
       "    }\n",
       "</style>\n",
       "<table border=\"1\" class=\"dataframe\">\n",
       "  <thead>\n",
       "    <tr style=\"text-align: right;\">\n",
       "      <th></th>\n",
       "      <th>address</th>\n",
       "      <th>area</th>\n",
       "      <th>date</th>\n",
       "      <th>demanded_price</th>\n",
       "      <th>final_price</th>\n",
       "      <th>monthly_fee</th>\n",
       "      <th>operating_cost</th>\n",
       "      <th>price_per_squaremeter</th>\n",
       "      <th>room_number</th>\n",
       "      <th>title</th>\n",
       "      <th>url</th>\n",
       "      <th>year_of_construction</th>\n",
       "    </tr>\n",
       "  </thead>\n",
       "  <tbody>\n",
       "    <tr>\n",
       "      <th>0</th>\n",
       "      <td>Luxgatan 7</td>\n",
       "      <td>30.0</td>\n",
       "      <td>13/01/21</td>\n",
       "      <td>2350000</td>\n",
       "      <td>2550000</td>\n",
       "      <td>1733</td>\n",
       "      <td>6096.0</td>\n",
       "      <td>85000</td>\n",
       "      <td>1 rum</td>\n",
       "      <td>Luxgatan 7 - Sald  - Lilla Essingen \\\\\\\\ Kungs...</td>\n",
       "      <td>https://www.hemnet.se/salda/lagenhet-1rum-lill...</td>\n",
       "      <td>1937</td>\n",
       "    </tr>\n",
       "    <tr>\n",
       "      <th>1</th>\n",
       "      <td>Primusgatan 108, 6/6 tr</td>\n",
       "      <td>101.0</td>\n",
       "      <td>10/01/21</td>\n",
       "      <td>11400000</td>\n",
       "      <td>11400000</td>\n",
       "      <td>5887</td>\n",
       "      <td>5540.0</td>\n",
       "      <td>112871</td>\n",
       "      <td>4 rum</td>\n",
       "      <td>Primusgatan 108, 6/6 tr - Sald  - Kungsholmen ...</td>\n",
       "      <td>https://www.hemnet.se/salda/lagenhet-4rum-kung...</td>\n",
       "      <td>1935</td>\n",
       "    </tr>\n",
       "    <tr>\n",
       "      <th>2</th>\n",
       "      <td>Stralgatan 47, 3 tr</td>\n",
       "      <td>31.0</td>\n",
       "      <td>08/01/21</td>\n",
       "      <td>2595000</td>\n",
       "      <td>2875000</td>\n",
       "      <td>2471</td>\n",
       "      <td>3200.0</td>\n",
       "      <td>92742</td>\n",
       "      <td>2 rum</td>\n",
       "      <td>Stralgatan 47, 3 tr  - Sald  - Lilla Essingen ...</td>\n",
       "      <td>https://www.hemnet.se/salda/lagenhet-2rum-lill...</td>\n",
       "      <td>1939</td>\n",
       "    </tr>\n",
       "    <tr>\n",
       "      <th>3</th>\n",
       "      <td>Disponentgatan 1</td>\n",
       "      <td>46.0</td>\n",
       "      <td>08/01/21</td>\n",
       "      <td>3550000</td>\n",
       "      <td>3550000</td>\n",
       "      <td>3003</td>\n",
       "      <td>12979.0</td>\n",
       "      <td>77174</td>\n",
       "      <td>2,5 rum</td>\n",
       "      <td>Disponentgatan 1 - Sald  - Lilla Essingen, STO...</td>\n",
       "      <td>https://www.hemnet.se/salda/lagenhet-2,5rum-li...</td>\n",
       "      <td>1935</td>\n",
       "    </tr>\n",
       "    <tr>\n",
       "      <th>4</th>\n",
       "      <td>Essinge Brogata 12</td>\n",
       "      <td>34.5</td>\n",
       "      <td>08/01/21</td>\n",
       "      <td>2495000</td>\n",
       "      <td>2900000</td>\n",
       "      <td>2162</td>\n",
       "      <td>4200.0</td>\n",
       "      <td>84058</td>\n",
       "      <td>2 rum</td>\n",
       "      <td>Essinge Brogata 12 - Sald  - Kungsholmen - Lil...</td>\n",
       "      <td>https://www.hemnet.se/salda/lagenhet-2rum-kung...</td>\n",
       "      <td>1934</td>\n",
       "    </tr>\n",
       "    <tr>\n",
       "      <th>5</th>\n",
       "      <td>Essinge Brogata 39, 2 tr</td>\n",
       "      <td>23.0</td>\n",
       "      <td>14/12/20</td>\n",
       "      <td>1895000</td>\n",
       "      <td>2205000</td>\n",
       "      <td>1787</td>\n",
       "      <td>3600.0</td>\n",
       "      <td>95870</td>\n",
       "      <td>1 rum</td>\n",
       "      <td>Essinge Brogata 39, 2 tr  - Sald  - Lilla Essi...</td>\n",
       "      <td>https://www.hemnet.se/salda/lagenhet-1rum-lill...</td>\n",
       "      <td>1938</td>\n",
       "    </tr>\n",
       "    <tr>\n",
       "      <th>6</th>\n",
       "      <td>Stralgatan 47</td>\n",
       "      <td>40.0</td>\n",
       "      <td>11/12/20</td>\n",
       "      <td>2595000</td>\n",
       "      <td>2850000</td>\n",
       "      <td>2957</td>\n",
       "      <td>4860.0</td>\n",
       "      <td>71250</td>\n",
       "      <td>2 rum</td>\n",
       "      <td>Stralgatan 47 - Sald  - Lilla Essingen \\\\\\\\ Ku...</td>\n",
       "      <td>https://www.hemnet.se/salda/lagenhet-2rum-lill...</td>\n",
       "      <td>1939</td>\n",
       "    </tr>\n",
       "    <tr>\n",
       "      <th>7</th>\n",
       "      <td>Patentgatan 1, 3tr</td>\n",
       "      <td>69.0</td>\n",
       "      <td>04/12/20</td>\n",
       "      <td>5995000</td>\n",
       "      <td>6400000</td>\n",
       "      <td>3778</td>\n",
       "      <td>7200.0</td>\n",
       "      <td>92754</td>\n",
       "      <td>3 rum</td>\n",
       "      <td>Patentgatan 1, 3tr - Sald  - Lilla Essingen, S...</td>\n",
       "      <td>https://www.hemnet.se/salda/lagenhet-3rum-lill...</td>\n",
       "      <td>2006</td>\n",
       "    </tr>\n",
       "    <tr>\n",
       "      <th>8</th>\n",
       "      <td>Primusgatan 82, 6tr</td>\n",
       "      <td>84.5</td>\n",
       "      <td>03/12/20</td>\n",
       "      <td>8495000</td>\n",
       "      <td>8495000</td>\n",
       "      <td>4828</td>\n",
       "      <td>7800.0</td>\n",
       "      <td>100533</td>\n",
       "      <td>3 rum</td>\n",
       "      <td>Primusgatan 82, 6tr - Sald  - Lilla Essingen, ...</td>\n",
       "      <td>https://www.hemnet.se/salda/lagenhet-3rum-lill...</td>\n",
       "      <td>2004</td>\n",
       "    </tr>\n",
       "    <tr>\n",
       "      <th>9</th>\n",
       "      <td>Primusgatan 81, van 4</td>\n",
       "      <td>96.0</td>\n",
       "      <td>01/12/20</td>\n",
       "      <td>8495000</td>\n",
       "      <td>9250000</td>\n",
       "      <td>4793</td>\n",
       "      <td>6860.0</td>\n",
       "      <td>96354</td>\n",
       "      <td>4 rum</td>\n",
       "      <td>Primusgatan 81, van 4 - Sald  - Lilla Essingen...</td>\n",
       "      <td>https://www.hemnet.se/salda/lagenhet-4rum-lill...</td>\n",
       "      <td>2004</td>\n",
       "    </tr>\n",
       "  </tbody>\n",
       "</table>\n",
       "</div>"
      ],
      "text/plain": [
       "                    address   area      date  demanded_price  final_price  \\\n",
       "0                Luxgatan 7   30.0  13/01/21         2350000      2550000   \n",
       "1   Primusgatan 108, 6/6 tr  101.0  10/01/21        11400000     11400000   \n",
       "2       Stralgatan 47, 3 tr   31.0  08/01/21         2595000      2875000   \n",
       "3          Disponentgatan 1   46.0  08/01/21         3550000      3550000   \n",
       "4        Essinge Brogata 12   34.5  08/01/21         2495000      2900000   \n",
       "5  Essinge Brogata 39, 2 tr   23.0  14/12/20         1895000      2205000   \n",
       "6             Stralgatan 47   40.0  11/12/20         2595000      2850000   \n",
       "7        Patentgatan 1, 3tr   69.0  04/12/20         5995000      6400000   \n",
       "8       Primusgatan 82, 6tr   84.5  03/12/20         8495000      8495000   \n",
       "9     Primusgatan 81, van 4   96.0  01/12/20         8495000      9250000   \n",
       "\n",
       "   monthly_fee  operating_cost  price_per_squaremeter room_number  \\\n",
       "0         1733          6096.0                  85000       1 rum   \n",
       "1         5887          5540.0                 112871       4 rum   \n",
       "2         2471          3200.0                  92742       2 rum   \n",
       "3         3003         12979.0                  77174     2,5 rum   \n",
       "4         2162          4200.0                  84058       2 rum   \n",
       "5         1787          3600.0                  95870       1 rum   \n",
       "6         2957          4860.0                  71250       2 rum   \n",
       "7         3778          7200.0                  92754       3 rum   \n",
       "8         4828          7800.0                 100533       3 rum   \n",
       "9         4793          6860.0                  96354       4 rum   \n",
       "\n",
       "                                               title  \\\n",
       "0  Luxgatan 7 - Sald  - Lilla Essingen \\\\\\\\ Kungs...   \n",
       "1  Primusgatan 108, 6/6 tr - Sald  - Kungsholmen ...   \n",
       "2  Stralgatan 47, 3 tr  - Sald  - Lilla Essingen ...   \n",
       "3  Disponentgatan 1 - Sald  - Lilla Essingen, STO...   \n",
       "4  Essinge Brogata 12 - Sald  - Kungsholmen - Lil...   \n",
       "5  Essinge Brogata 39, 2 tr  - Sald  - Lilla Essi...   \n",
       "6  Stralgatan 47 - Sald  - Lilla Essingen \\\\\\\\ Ku...   \n",
       "7  Patentgatan 1, 3tr - Sald  - Lilla Essingen, S...   \n",
       "8  Primusgatan 82, 6tr - Sald  - Lilla Essingen, ...   \n",
       "9  Primusgatan 81, van 4 - Sald  - Lilla Essingen...   \n",
       "\n",
       "                                                 url  year_of_construction  \n",
       "0  https://www.hemnet.se/salda/lagenhet-1rum-lill...                  1937  \n",
       "1  https://www.hemnet.se/salda/lagenhet-4rum-kung...                  1935  \n",
       "2  https://www.hemnet.se/salda/lagenhet-2rum-lill...                  1939  \n",
       "3  https://www.hemnet.se/salda/lagenhet-2,5rum-li...                  1935  \n",
       "4  https://www.hemnet.se/salda/lagenhet-2rum-kung...                  1934  \n",
       "5  https://www.hemnet.se/salda/lagenhet-1rum-lill...                  1938  \n",
       "6  https://www.hemnet.se/salda/lagenhet-2rum-lill...                  1939  \n",
       "7  https://www.hemnet.se/salda/lagenhet-3rum-lill...                  2006  \n",
       "8  https://www.hemnet.se/salda/lagenhet-3rum-lill...                  2004  \n",
       "9  https://www.hemnet.se/salda/lagenhet-4rum-lill...                  2004  "
      ]
     },
     "execution_count": 8,
     "metadata": {},
     "output_type": "execute_result"
    }
   ],
   "source": [
    "data.head(10)"
   ]
  },
  {
   "cell_type": "code",
   "execution_count": 9,
   "metadata": {},
   "outputs": [
    {
     "data": {
      "text/plain": [
       "count       236.000000\n",
       "mean      83405.406780\n",
       "std       11409.892666\n",
       "min       56875.000000\n",
       "25%       75826.000000\n",
       "50%       81936.500000\n",
       "75%       90828.000000\n",
       "max      127727.000000\n",
       "Name: price_per_squaremeter, dtype: float64"
      ]
     },
     "execution_count": 9,
     "metadata": {},
     "output_type": "execute_result"
    }
   ],
   "source": [
    "data['price_per_squaremeter'].describe()"
   ]
  },
  {
   "cell_type": "markdown",
   "metadata": {},
   "source": [
    "### if value is bigger than mean it is expensive"
   ]
  },
  {
   "cell_type": "code",
   "execution_count": 10,
   "metadata": {},
   "outputs": [],
   "source": [
    "data['price_category'] = list(map(lambda x: 'expensive' if x > 83405 else 'cheap',data['price_per_squaremeter']))"
   ]
  },
  {
   "cell_type": "code",
   "execution_count": 11,
   "metadata": {},
   "outputs": [
    {
     "data": {
      "text/plain": [
       "count     236.000000\n",
       "mean     1959.559322\n",
       "std        32.012376\n",
       "min      1909.000000\n",
       "25%      1938.000000\n",
       "50%      1939.000000\n",
       "75%      2004.000000\n",
       "max      2007.000000\n",
       "Name: year_of_construction, dtype: float64"
      ]
     },
     "execution_count": 11,
     "metadata": {},
     "output_type": "execute_result"
    }
   ],
   "source": [
    "data['year_of_construction'].describe()"
   ]
  },
  {
   "cell_type": "markdown",
   "metadata": {},
   "source": [
    "### if value is bigger than 1960 it is new"
   ]
  },
  {
   "cell_type": "code",
   "execution_count": 12,
   "metadata": {},
   "outputs": [],
   "source": [
    "data['years_category'] = list(map(lambda x: 'new' if x > 1960 else 'old',data['year_of_construction']))"
   ]
  },
  {
   "cell_type": "code",
   "execution_count": 13,
   "metadata": {},
   "outputs": [
    {
     "data": {
      "text/html": [
       "<div>\n",
       "<style scoped>\n",
       "    .dataframe tbody tr th:only-of-type {\n",
       "        vertical-align: middle;\n",
       "    }\n",
       "\n",
       "    .dataframe tbody tr th {\n",
       "        vertical-align: top;\n",
       "    }\n",
       "\n",
       "    .dataframe thead th {\n",
       "        text-align: right;\n",
       "    }\n",
       "</style>\n",
       "<table border=\"1\" class=\"dataframe\">\n",
       "  <thead>\n",
       "    <tr style=\"text-align: right;\">\n",
       "      <th></th>\n",
       "      <th>address</th>\n",
       "      <th>area</th>\n",
       "      <th>date</th>\n",
       "      <th>demanded_price</th>\n",
       "      <th>final_price</th>\n",
       "      <th>monthly_fee</th>\n",
       "      <th>operating_cost</th>\n",
       "      <th>price_per_squaremeter</th>\n",
       "      <th>room_number</th>\n",
       "      <th>title</th>\n",
       "      <th>url</th>\n",
       "      <th>year_of_construction</th>\n",
       "      <th>price_category</th>\n",
       "      <th>years_category</th>\n",
       "    </tr>\n",
       "  </thead>\n",
       "  <tbody>\n",
       "    <tr>\n",
       "      <th>0</th>\n",
       "      <td>Luxgatan 7</td>\n",
       "      <td>30.0</td>\n",
       "      <td>13/01/21</td>\n",
       "      <td>2350000</td>\n",
       "      <td>2550000</td>\n",
       "      <td>1733</td>\n",
       "      <td>6096.0</td>\n",
       "      <td>85000</td>\n",
       "      <td>1 rum</td>\n",
       "      <td>Luxgatan 7 - Sald  - Lilla Essingen \\\\\\\\ Kungs...</td>\n",
       "      <td>https://www.hemnet.se/salda/lagenhet-1rum-lill...</td>\n",
       "      <td>1937</td>\n",
       "      <td>expensive</td>\n",
       "      <td>old</td>\n",
       "    </tr>\n",
       "    <tr>\n",
       "      <th>1</th>\n",
       "      <td>Primusgatan 108, 6/6 tr</td>\n",
       "      <td>101.0</td>\n",
       "      <td>10/01/21</td>\n",
       "      <td>11400000</td>\n",
       "      <td>11400000</td>\n",
       "      <td>5887</td>\n",
       "      <td>5540.0</td>\n",
       "      <td>112871</td>\n",
       "      <td>4 rum</td>\n",
       "      <td>Primusgatan 108, 6/6 tr - Sald  - Kungsholmen ...</td>\n",
       "      <td>https://www.hemnet.se/salda/lagenhet-4rum-kung...</td>\n",
       "      <td>1935</td>\n",
       "      <td>expensive</td>\n",
       "      <td>old</td>\n",
       "    </tr>\n",
       "    <tr>\n",
       "      <th>2</th>\n",
       "      <td>Stralgatan 47, 3 tr</td>\n",
       "      <td>31.0</td>\n",
       "      <td>08/01/21</td>\n",
       "      <td>2595000</td>\n",
       "      <td>2875000</td>\n",
       "      <td>2471</td>\n",
       "      <td>3200.0</td>\n",
       "      <td>92742</td>\n",
       "      <td>2 rum</td>\n",
       "      <td>Stralgatan 47, 3 tr  - Sald  - Lilla Essingen ...</td>\n",
       "      <td>https://www.hemnet.se/salda/lagenhet-2rum-lill...</td>\n",
       "      <td>1939</td>\n",
       "      <td>expensive</td>\n",
       "      <td>old</td>\n",
       "    </tr>\n",
       "    <tr>\n",
       "      <th>3</th>\n",
       "      <td>Disponentgatan 1</td>\n",
       "      <td>46.0</td>\n",
       "      <td>08/01/21</td>\n",
       "      <td>3550000</td>\n",
       "      <td>3550000</td>\n",
       "      <td>3003</td>\n",
       "      <td>12979.0</td>\n",
       "      <td>77174</td>\n",
       "      <td>2,5 rum</td>\n",
       "      <td>Disponentgatan 1 - Sald  - Lilla Essingen, STO...</td>\n",
       "      <td>https://www.hemnet.se/salda/lagenhet-2,5rum-li...</td>\n",
       "      <td>1935</td>\n",
       "      <td>cheap</td>\n",
       "      <td>old</td>\n",
       "    </tr>\n",
       "    <tr>\n",
       "      <th>4</th>\n",
       "      <td>Essinge Brogata 12</td>\n",
       "      <td>34.5</td>\n",
       "      <td>08/01/21</td>\n",
       "      <td>2495000</td>\n",
       "      <td>2900000</td>\n",
       "      <td>2162</td>\n",
       "      <td>4200.0</td>\n",
       "      <td>84058</td>\n",
       "      <td>2 rum</td>\n",
       "      <td>Essinge Brogata 12 - Sald  - Kungsholmen - Lil...</td>\n",
       "      <td>https://www.hemnet.se/salda/lagenhet-2rum-kung...</td>\n",
       "      <td>1934</td>\n",
       "      <td>expensive</td>\n",
       "      <td>old</td>\n",
       "    </tr>\n",
       "    <tr>\n",
       "      <th>5</th>\n",
       "      <td>Essinge Brogata 39, 2 tr</td>\n",
       "      <td>23.0</td>\n",
       "      <td>14/12/20</td>\n",
       "      <td>1895000</td>\n",
       "      <td>2205000</td>\n",
       "      <td>1787</td>\n",
       "      <td>3600.0</td>\n",
       "      <td>95870</td>\n",
       "      <td>1 rum</td>\n",
       "      <td>Essinge Brogata 39, 2 tr  - Sald  - Lilla Essi...</td>\n",
       "      <td>https://www.hemnet.se/salda/lagenhet-1rum-lill...</td>\n",
       "      <td>1938</td>\n",
       "      <td>expensive</td>\n",
       "      <td>old</td>\n",
       "    </tr>\n",
       "    <tr>\n",
       "      <th>6</th>\n",
       "      <td>Stralgatan 47</td>\n",
       "      <td>40.0</td>\n",
       "      <td>11/12/20</td>\n",
       "      <td>2595000</td>\n",
       "      <td>2850000</td>\n",
       "      <td>2957</td>\n",
       "      <td>4860.0</td>\n",
       "      <td>71250</td>\n",
       "      <td>2 rum</td>\n",
       "      <td>Stralgatan 47 - Sald  - Lilla Essingen \\\\\\\\ Ku...</td>\n",
       "      <td>https://www.hemnet.se/salda/lagenhet-2rum-lill...</td>\n",
       "      <td>1939</td>\n",
       "      <td>cheap</td>\n",
       "      <td>old</td>\n",
       "    </tr>\n",
       "    <tr>\n",
       "      <th>7</th>\n",
       "      <td>Patentgatan 1, 3tr</td>\n",
       "      <td>69.0</td>\n",
       "      <td>04/12/20</td>\n",
       "      <td>5995000</td>\n",
       "      <td>6400000</td>\n",
       "      <td>3778</td>\n",
       "      <td>7200.0</td>\n",
       "      <td>92754</td>\n",
       "      <td>3 rum</td>\n",
       "      <td>Patentgatan 1, 3tr - Sald  - Lilla Essingen, S...</td>\n",
       "      <td>https://www.hemnet.se/salda/lagenhet-3rum-lill...</td>\n",
       "      <td>2006</td>\n",
       "      <td>expensive</td>\n",
       "      <td>new</td>\n",
       "    </tr>\n",
       "    <tr>\n",
       "      <th>8</th>\n",
       "      <td>Primusgatan 82, 6tr</td>\n",
       "      <td>84.5</td>\n",
       "      <td>03/12/20</td>\n",
       "      <td>8495000</td>\n",
       "      <td>8495000</td>\n",
       "      <td>4828</td>\n",
       "      <td>7800.0</td>\n",
       "      <td>100533</td>\n",
       "      <td>3 rum</td>\n",
       "      <td>Primusgatan 82, 6tr - Sald  - Lilla Essingen, ...</td>\n",
       "      <td>https://www.hemnet.se/salda/lagenhet-3rum-lill...</td>\n",
       "      <td>2004</td>\n",
       "      <td>expensive</td>\n",
       "      <td>new</td>\n",
       "    </tr>\n",
       "    <tr>\n",
       "      <th>9</th>\n",
       "      <td>Primusgatan 81, van 4</td>\n",
       "      <td>96.0</td>\n",
       "      <td>01/12/20</td>\n",
       "      <td>8495000</td>\n",
       "      <td>9250000</td>\n",
       "      <td>4793</td>\n",
       "      <td>6860.0</td>\n",
       "      <td>96354</td>\n",
       "      <td>4 rum</td>\n",
       "      <td>Primusgatan 81, van 4 - Sald  - Lilla Essingen...</td>\n",
       "      <td>https://www.hemnet.se/salda/lagenhet-4rum-lill...</td>\n",
       "      <td>2004</td>\n",
       "      <td>expensive</td>\n",
       "      <td>new</td>\n",
       "    </tr>\n",
       "  </tbody>\n",
       "</table>\n",
       "</div>"
      ],
      "text/plain": [
       "                    address   area      date  demanded_price  final_price  \\\n",
       "0                Luxgatan 7   30.0  13/01/21         2350000      2550000   \n",
       "1   Primusgatan 108, 6/6 tr  101.0  10/01/21        11400000     11400000   \n",
       "2       Stralgatan 47, 3 tr   31.0  08/01/21         2595000      2875000   \n",
       "3          Disponentgatan 1   46.0  08/01/21         3550000      3550000   \n",
       "4        Essinge Brogata 12   34.5  08/01/21         2495000      2900000   \n",
       "5  Essinge Brogata 39, 2 tr   23.0  14/12/20         1895000      2205000   \n",
       "6             Stralgatan 47   40.0  11/12/20         2595000      2850000   \n",
       "7        Patentgatan 1, 3tr   69.0  04/12/20         5995000      6400000   \n",
       "8       Primusgatan 82, 6tr   84.5  03/12/20         8495000      8495000   \n",
       "9     Primusgatan 81, van 4   96.0  01/12/20         8495000      9250000   \n",
       "\n",
       "   monthly_fee  operating_cost  price_per_squaremeter room_number  \\\n",
       "0         1733          6096.0                  85000       1 rum   \n",
       "1         5887          5540.0                 112871       4 rum   \n",
       "2         2471          3200.0                  92742       2 rum   \n",
       "3         3003         12979.0                  77174     2,5 rum   \n",
       "4         2162          4200.0                  84058       2 rum   \n",
       "5         1787          3600.0                  95870       1 rum   \n",
       "6         2957          4860.0                  71250       2 rum   \n",
       "7         3778          7200.0                  92754       3 rum   \n",
       "8         4828          7800.0                 100533       3 rum   \n",
       "9         4793          6860.0                  96354       4 rum   \n",
       "\n",
       "                                               title  \\\n",
       "0  Luxgatan 7 - Sald  - Lilla Essingen \\\\\\\\ Kungs...   \n",
       "1  Primusgatan 108, 6/6 tr - Sald  - Kungsholmen ...   \n",
       "2  Stralgatan 47, 3 tr  - Sald  - Lilla Essingen ...   \n",
       "3  Disponentgatan 1 - Sald  - Lilla Essingen, STO...   \n",
       "4  Essinge Brogata 12 - Sald  - Kungsholmen - Lil...   \n",
       "5  Essinge Brogata 39, 2 tr  - Sald  - Lilla Essi...   \n",
       "6  Stralgatan 47 - Sald  - Lilla Essingen \\\\\\\\ Ku...   \n",
       "7  Patentgatan 1, 3tr - Sald  - Lilla Essingen, S...   \n",
       "8  Primusgatan 82, 6tr - Sald  - Lilla Essingen, ...   \n",
       "9  Primusgatan 81, van 4 - Sald  - Lilla Essingen...   \n",
       "\n",
       "                                                 url  year_of_construction  \\\n",
       "0  https://www.hemnet.se/salda/lagenhet-1rum-lill...                  1937   \n",
       "1  https://www.hemnet.se/salda/lagenhet-4rum-kung...                  1935   \n",
       "2  https://www.hemnet.se/salda/lagenhet-2rum-lill...                  1939   \n",
       "3  https://www.hemnet.se/salda/lagenhet-2,5rum-li...                  1935   \n",
       "4  https://www.hemnet.se/salda/lagenhet-2rum-kung...                  1934   \n",
       "5  https://www.hemnet.se/salda/lagenhet-1rum-lill...                  1938   \n",
       "6  https://www.hemnet.se/salda/lagenhet-2rum-lill...                  1939   \n",
       "7  https://www.hemnet.se/salda/lagenhet-3rum-lill...                  2006   \n",
       "8  https://www.hemnet.se/salda/lagenhet-3rum-lill...                  2004   \n",
       "9  https://www.hemnet.se/salda/lagenhet-4rum-lill...                  2004   \n",
       "\n",
       "  price_category years_category  \n",
       "0      expensive            old  \n",
       "1      expensive            old  \n",
       "2      expensive            old  \n",
       "3          cheap            old  \n",
       "4      expensive            old  \n",
       "5      expensive            old  \n",
       "6          cheap            old  \n",
       "7      expensive            new  \n",
       "8      expensive            new  \n",
       "9      expensive            new  "
      ]
     },
     "execution_count": 13,
     "metadata": {},
     "output_type": "execute_result"
    }
   ],
   "source": [
    "data.head(10)"
   ]
  },
  {
   "cell_type": "code",
   "execution_count": 14,
   "metadata": {},
   "outputs": [
    {
     "name": "stdout",
     "output_type": "stream",
     "text": [
      "<class 'pandas.core.frame.DataFrame'>\n",
      "RangeIndex: 236 entries, 0 to 235\n",
      "Data columns (total 14 columns):\n",
      " #   Column                 Non-Null Count  Dtype  \n",
      "---  ------                 --------------  -----  \n",
      " 0   address                236 non-null    object \n",
      " 1   area                   236 non-null    float64\n",
      " 2   date                   236 non-null    object \n",
      " 3   demanded_price         236 non-null    int64  \n",
      " 4   final_price            236 non-null    int64  \n",
      " 5   monthly_fee            236 non-null    int64  \n",
      " 6   operating_cost         205 non-null    float64\n",
      " 7   price_per_squaremeter  236 non-null    int64  \n",
      " 8   room_number            236 non-null    object \n",
      " 9   title                  236 non-null    object \n",
      " 10  url                    236 non-null    object \n",
      " 11  year_of_construction   236 non-null    int64  \n",
      " 12  price_category         236 non-null    object \n",
      " 13  years_category         236 non-null    object \n",
      "dtypes: float64(2), int64(5), object(7)\n",
      "memory usage: 25.9+ KB\n"
     ]
    }
   ],
   "source": [
    "data.info()"
   ]
  },
  {
   "cell_type": "code",
   "execution_count": 15,
   "metadata": {},
   "outputs": [
    {
     "data": {
      "text/plain": [
       "address                   object\n",
       "area                     float64\n",
       "date                      object\n",
       "demanded_price             int64\n",
       "final_price                int64\n",
       "monthly_fee                int64\n",
       "operating_cost           float64\n",
       "price_per_squaremeter      int64\n",
       "room_number               object\n",
       "title                     object\n",
       "url                       object\n",
       "year_of_construction       int64\n",
       "price_category            object\n",
       "years_category            object\n",
       "dtype: object"
      ]
     },
     "execution_count": 15,
     "metadata": {},
     "output_type": "execute_result"
    }
   ],
   "source": [
    "data.dtypes"
   ]
  },
  {
   "cell_type": "code",
   "execution_count": 16,
   "metadata": {},
   "outputs": [],
   "source": [
    "data_crosstab = pd.crosstab(data['price_category'], data['years_category'],  margins = False)"
   ]
  },
  {
   "cell_type": "code",
   "execution_count": 17,
   "metadata": {},
   "outputs": [
    {
     "data": {
      "text/html": [
       "<div>\n",
       "<style scoped>\n",
       "    .dataframe tbody tr th:only-of-type {\n",
       "        vertical-align: middle;\n",
       "    }\n",
       "\n",
       "    .dataframe tbody tr th {\n",
       "        vertical-align: top;\n",
       "    }\n",
       "\n",
       "    .dataframe thead th {\n",
       "        text-align: right;\n",
       "    }\n",
       "</style>\n",
       "<table border=\"1\" class=\"dataframe\">\n",
       "  <thead>\n",
       "    <tr style=\"text-align: right;\">\n",
       "      <th>years_category</th>\n",
       "      <th>new</th>\n",
       "      <th>old</th>\n",
       "    </tr>\n",
       "    <tr>\n",
       "      <th>price_category</th>\n",
       "      <th></th>\n",
       "      <th></th>\n",
       "    </tr>\n",
       "  </thead>\n",
       "  <tbody>\n",
       "    <tr>\n",
       "      <th>cheap</th>\n",
       "      <td>50</td>\n",
       "      <td>83</td>\n",
       "    </tr>\n",
       "    <tr>\n",
       "      <th>expensive</th>\n",
       "      <td>28</td>\n",
       "      <td>75</td>\n",
       "    </tr>\n",
       "  </tbody>\n",
       "</table>\n",
       "</div>"
      ],
      "text/plain": [
       "years_category  new  old\n",
       "price_category          \n",
       "cheap            50   83\n",
       "expensive        28   75"
      ]
     },
     "execution_count": 17,
     "metadata": {},
     "output_type": "execute_result"
    }
   ],
   "source": [
    "data_crosstab"
   ]
  },
  {
   "cell_type": "code",
   "execution_count": 18,
   "metadata": {},
   "outputs": [],
   "source": [
    "contigency_pct = pd.crosstab(data['price_category'], data['years_category'], normalize='index')"
   ]
  },
  {
   "cell_type": "code",
   "execution_count": 19,
   "metadata": {},
   "outputs": [
    {
     "data": {
      "text/html": [
       "<div>\n",
       "<style scoped>\n",
       "    .dataframe tbody tr th:only-of-type {\n",
       "        vertical-align: middle;\n",
       "    }\n",
       "\n",
       "    .dataframe tbody tr th {\n",
       "        vertical-align: top;\n",
       "    }\n",
       "\n",
       "    .dataframe thead th {\n",
       "        text-align: right;\n",
       "    }\n",
       "</style>\n",
       "<table border=\"1\" class=\"dataframe\">\n",
       "  <thead>\n",
       "    <tr style=\"text-align: right;\">\n",
       "      <th>years_category</th>\n",
       "      <th>new</th>\n",
       "      <th>old</th>\n",
       "    </tr>\n",
       "    <tr>\n",
       "      <th>price_category</th>\n",
       "      <th></th>\n",
       "      <th></th>\n",
       "    </tr>\n",
       "  </thead>\n",
       "  <tbody>\n",
       "    <tr>\n",
       "      <th>cheap</th>\n",
       "      <td>0.375940</td>\n",
       "      <td>0.624060</td>\n",
       "    </tr>\n",
       "    <tr>\n",
       "      <th>expensive</th>\n",
       "      <td>0.271845</td>\n",
       "      <td>0.728155</td>\n",
       "    </tr>\n",
       "  </tbody>\n",
       "</table>\n",
       "</div>"
      ],
      "text/plain": [
       "years_category       new       old\n",
       "price_category                    \n",
       "cheap           0.375940  0.624060\n",
       "expensive       0.271845  0.728155"
      ]
     },
     "execution_count": 19,
     "metadata": {},
     "output_type": "execute_result"
    }
   ],
   "source": [
    "contigency_pct"
   ]
  },
  {
   "cell_type": "code",
   "execution_count": 20,
   "metadata": {},
   "outputs": [
    {
     "data": {
      "text/plain": [
       "<AxesSubplot:xlabel='years_category', ylabel='price_category'>"
      ]
     },
     "execution_count": 20,
     "metadata": {},
     "output_type": "execute_result"
    },
    {
     "data": {
      "image/png": "[encoded data removed]",
      "text/plain": [
       "<Figure size 864x576 with 2 Axes>"
      ]
     },
     "metadata": {
      "needs_background": "light"
     },
     "output_type": "display_data"
    }
   ],
   "source": [
    "plt.figure(figsize=(12,8))\n",
    "sns.heatmap(data_crosstab, annot=True, cmap=\"YlGnBu\")"
   ]
  },
  {
   "cell_type": "code",
   "execution_count": 21,
   "metadata": {},
   "outputs": [],
   "source": [
    "stat, p, dof, expected = chi2_contingency(data_crosstab)"
   ]
  },
  {
   "cell_type": "code",
   "execution_count": 24,
   "metadata": {},
   "outputs": [
    {
     "data": {
      "text/plain": [
       "0.12198940846285086"
      ]
     },
     "execution_count": 24,
     "metadata": {},
     "output_type": "execute_result"
    }
   ],
   "source": [
    "p"
   ]
  },
  {
   "cell_type": "code",
   "execution_count": 25,
   "metadata": {},
   "outputs": [
    {
     "data": {
      "text/plain": [
       "1"
      ]
     },
     "execution_count": 25,
     "metadata": {},
     "output_type": "execute_result"
    }
   ],
   "source": [
    "dof"
   ]
  },
  {
   "cell_type": "code",
   "execution_count": 26,
   "metadata": {},
   "outputs": [
    {
     "data": {
      "text/plain": [
       "array([[43.95762712, 89.04237288],\n",
       "       [34.04237288, 68.95762712]])"
      ]
     },
     "execution_count": 26,
     "metadata": {},
     "output_type": "execute_result"
    }
   ],
   "source": [
    "expected"
   ]
  },
  {
   "cell_type": "markdown",
   "metadata": {},
   "source": [
    "The p-value is 12.19% which means that we do not reject the null hypothesis at 95% level of confidence. \n",
    "The null hypothesis was that House squaremeter price and build year are independent. "
   ]
  },
  {
   "cell_type": "code",
   "execution_count": 28,
   "metadata": {},
   "outputs": [
    {
     "name": "stdout",
     "output_type": "stream",
     "text": [
      "Independent (fail to reject H0)\n"
     ]
    }
   ],
   "source": [
    "# interpret test-statistic\n",
    "prob = 0.95\n",
    "critical = chi2.ppf(prob, dof)\n",
    "if abs(stat) >= critical:\n",
    "\tprint('Dependent (reject H0)')\n",
    "else:\n",
    "\tprint('Independent (fail to reject H0)')"
   ]
  },
  {
   "cell_type": "code",
   "execution_count": 29,
   "metadata": {},
   "outputs": [
    {
     "data": {
      "text/plain": [
       "3.841458820694124"
      ]
     },
     "execution_count": 29,
     "metadata": {},
     "output_type": "execute_result"
    }
   ],
   "source": [
    "critical"
   ]
  },
  {
   "cell_type": "code",
   "execution_count": 30,
   "metadata": {},
   "outputs": [
    {
     "data": {
      "text/plain": [
       "2.3915911388211395"
      ]
     },
     "execution_count": 30,
     "metadata": {},
     "output_type": "execute_result"
    }
   ],
   "source": [
    "stat"
   ]
  },
  {
   "cell_type": "code",
   "execution_count": null,
   "metadata": {},
   "outputs": [],
   "source": []
  }
 ],
 "metadata": {
  "kernelspec": {
   "display_name": "Python 3",
   "language": "python",
   "name": "python3"
  },
  "language_info": {
   "codemirror_mode": {
    "name": "ipython",
    "version": 3
   },
   "file_extension": ".py",
   "mimetype": "text/x-python",
   "name": "python",
   "nbconvert_exporter": "python",
   "pygments_lexer": "ipython3",
   "version": "3.7.7"
  }
 },
 "nbformat": 4,
 "nbformat_minor": 4
}
